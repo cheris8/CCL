{
 "cells": [
  {
   "cell_type": "code",
   "execution_count": 1,
   "metadata": {},
   "outputs": [
    {
     "name": "stdout",
     "output_type": "stream",
     "text": [
      "['csqa', 'cmqa']\n"
     ]
    }
   ],
   "source": [
    "string_1 = \"csqa-cmqa\"\n",
    "\n",
    "string_2 = string_1.split(\"-\")\n",
    "print(string_2)"
   ]
  }
 ],
 "metadata": {
  "interpreter": {
   "hash": "d585f5dd46ff142a1cbe6d0513d2e0a6b200deb517a60b6f75be1b97d8951e6e"
  },
  "kernelspec": {
   "display_name": "Python 3.7.11 ('seungjun')",
   "language": "python",
   "name": "python3"
  },
  "language_info": {
   "codemirror_mode": {
    "name": "ipython",
    "version": 3
   },
   "file_extension": ".py",
   "mimetype": "text/x-python",
   "name": "python",
   "nbconvert_exporter": "python",
   "pygments_lexer": "ipython3",
   "version": "3.7.11"
  },
  "orig_nbformat": 4
 },
 "nbformat": 4,
 "nbformat_minor": 2
}
